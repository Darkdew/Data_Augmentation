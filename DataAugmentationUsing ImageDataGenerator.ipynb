{
  "nbformat": 4,
  "nbformat_minor": 0,
  "metadata": {
    "colab": {
      "name": "Untitled1.ipynb",
      "provenance": [],
      "mount_file_id": "1HmoD9z-H3HKKdRb_cf8qHvxfk-96d0RM",
      "authorship_tag": "ABX9TyM4bucguKAlxqASH4H+V1xY",
      "include_colab_link": true
    },
    "kernelspec": {
      "name": "python3",
      "display_name": "Python 3"
    }
  },
  "cells": [
    {
      "cell_type": "markdown",
      "metadata": {
        "id": "view-in-github",
        "colab_type": "text"
      },
      "source": [
        "<a href=\"https://colab.research.google.com/github/Darkdew/Data_Augmentation/blob/master/DataAugmentationUsing%20ImageDataGenerator.ipynb\" target=\"_parent\"><img src=\"https://colab.research.google.com/assets/colab-badge.svg\" alt=\"Open In Colab\"/></a>"
      ]
    },
    {
      "cell_type": "code",
      "metadata": {
        "id": "qToSJryiVKFQ",
        "colab_type": "code",
        "colab": {
          "base_uri": "https://localhost:8080/",
          "height": 35
        },
        "outputId": "156c8d59-5337-49ab-c3d0-aab139005d47"
      },
      "source": [
        "from keras.preprocessing.image import ImageDataGenerator, array_to_img, img_to_array, load_img"
      ],
      "execution_count": 1,
      "outputs": [
        {
          "output_type": "stream",
          "text": [
            "Using TensorFlow backend.\n"
          ],
          "name": "stderr"
        }
      ]
    },
    {
      "cell_type": "code",
      "metadata": {
        "id": "kh3vzPKhVx2K",
        "colab_type": "code",
        "colab": {}
      },
      "source": [
        "datagenerator_obj= ImageDataGenerator(rotation_range=40, \n",
        "                                      width_shift_range=0.3, \n",
        "                                      height_shift_range=0.4, \n",
        "                                      brightness_range=[0.2,1.0], \n",
        "                                      shear_range=0.2, \n",
        "                                      zoom_range=0.5, \n",
        "                                      channel_shift_range=0.3, \n",
        "                                      fill_mode='nearest', \n",
        "                                      horizontal_flip=True, \n",
        "                                      vertical_flip=True)"
      ],
      "execution_count": 0,
      "outputs": []
    },
    {
      "cell_type": "code",
      "metadata": {
        "id": "-iu-5ruPXkrh",
        "colab_type": "code",
        "colab": {}
      },
      "source": [
        "image= load_img(\"/content/drive/My Drive/Colab Notebooks/Catanddogs/catanddogs2.jpg\")\n",
        "\n",
        "#jpg images are supported by the Python Imaging Library, so we are basically using a PIL image"
      ],
      "execution_count": 0,
      "outputs": []
    },
    {
      "cell_type": "code",
      "metadata": {
        "id": "nz4aFadZaJPJ",
        "colab_type": "code",
        "colab": {
          "base_uri": "https://localhost:8080/",
          "height": 35
        },
        "outputId": "a977ed3b-0297-4e8d-d47d-d729a6e97c74"
      },
      "source": [
        "#Now convert the image to an array\n",
        "imagearray= img_to_array(image)\n",
        "imagearray.shape"
      ],
      "execution_count": 4,
      "outputs": [
        {
          "output_type": "execute_result",
          "data": {
            "text/plain": [
              "(275, 183, 3)"
            ]
          },
          "metadata": {
            "tags": []
          },
          "execution_count": 4
        }
      ]
    },
    {
      "cell_type": "code",
      "metadata": {
        "id": "Au3fBXeta0VP",
        "colab_type": "code",
        "colab": {
          "base_uri": "https://localhost:8080/",
          "height": 35
        },
        "outputId": "e6c06a30-a449-45f4-a823-fa815979e99c"
      },
      "source": [
        "imagearray= imagearray.reshape((1,)+imagearray.shape)\n",
        "imagearray.shape"
      ],
      "execution_count": 5,
      "outputs": [
        {
          "output_type": "execute_result",
          "data": {
            "text/plain": [
              "(1, 275, 183, 3)"
            ]
          },
          "metadata": {
            "tags": []
          },
          "execution_count": 5
        }
      ]
    },
    {
      "cell_type": "code",
      "metadata": {
        "id": "rkiSVy8QiSWW",
        "colab_type": "code",
        "colab": {}
      },
      "source": [
        "#using .flow() to generate batches of randomly transferred images and \n",
        "#saves the results to the preview directory\n",
        "\n",
        "i=0\n",
        "for batch in datagenerator_obj.flow(imagearray, batch_size=1, \n",
        "                          save_to_dir= '/content/drive/My Drive/Colab Notebooks/Catanddogs/preview',\n",
        "                           save_prefix= 'cat', save_format='jpg'):\n",
        "  i= i+1\n",
        "  if i>30:\n",
        "    break"
      ],
      "execution_count": 0,
      "outputs": []
    }
  ]
}